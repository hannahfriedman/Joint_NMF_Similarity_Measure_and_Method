{
 "cells": [
  {
   "cell_type": "code",
   "execution_count": 1,
   "id": "12b3a56f",
   "metadata": {},
   "outputs": [],
   "source": [
    "import sklearn.datasets as skds\n",
    "from sklearn.feature_extraction.text import TfidfVectorizer\n",
    "import numpy as np\n",
    "from similarity import *\n",
    "import scipy.sparse as scpsp\n",
    "import matplotlib.pyplot as plt\n",
    "import warnings\n",
    "from tqdm.notebook import tqdm\n",
    "from sklearn.cluster import KMeans"
   ]
  },
  {
   "cell_type": "markdown",
   "id": "70d56fcf",
   "metadata": {},
   "source": [
    "# Importing and Prepping Dataset"
   ]
  },
  {
   "cell_type": "code",
   "execution_count": 2,
   "id": "ab19efa1",
   "metadata": {},
   "outputs": [],
   "source": [
    "twenty_news_complete = skds.fetch_20newsgroups(remove=('headers', 'footers', 'quotes'))\n",
    "categories = list(twenty_news_complete.target_names)\n",
    "\n",
    "vectorizer = TfidfVectorizer()\n",
    "model = vectorizer.fit(twenty_news_complete.data)\n",
    "\n",
    "twenty_news_cats = list()\n",
    "for category in categories:\n",
    "    cat_data = skds.fetch_20newsgroups(categories=[category],remove=('headers', 'footers', 'quotes'))\n",
    "    cat_matrix = vectorizer.transform(cat_data.data)\n",
    "    cat_vecs = np.transpose(cat_matrix[np.random.randint(cat_matrix.shape[0],size=100),:])\n",
    "    cat_vecs_dense = np.asarray(scpsp.csr_matrix.todense(cat_vecs))\n",
    "    twenty_news_cats.append(cat_vecs_dense)"
   ]
  },
  {
   "cell_type": "markdown",
   "id": "50646163",
   "metadata": {},
   "source": [
    "# Average Distance Calculation (without normalization)"
   ]
  },
  {
   "cell_type": "code",
   "execution_count": 3,
   "id": "7535c86f",
   "metadata": {},
   "outputs": [
    {
     "data": {
      "application/vnd.jupyter.widget-view+json": {
       "model_id": "727647c7585c4346982168388f30f607",
       "version_major": 2,
       "version_minor": 0
      },
      "text/plain": [
       "  0%|          | 0/10500 [00:00<?, ?it/s]"
      ]
     },
     "metadata": {},
     "output_type": "display_data"
    }
   ],
   "source": [
    "warnings.filterwarnings('ignore')\n",
    "\n",
    "numtrials = 50\n",
    "\n",
    "rank = 10\n",
    "dist_matrix = np.zeros([20,20])\n",
    "\n",
    "with tqdm(total=numtrials * 10 * 21) as pbar:\n",
    "    for trial in tqdm(range(numtrials),display=False):\n",
    "        twenty_news_cats = list()\n",
    "        for category in categories:\n",
    "            cat_data = skds.fetch_20newsgroups(categories=[category],remove=('headers', 'footers', 'quotes'))\n",
    "            cat_matrix = vectorizer.transform(cat_data.data)\n",
    "            cat_vecs = np.transpose(cat_matrix[np.random.randint(cat_matrix.shape[0],size=100),:])\n",
    "            cat_vecs_dense = np.asarray(scpsp.csr_matrix.todense(cat_vecs))\n",
    "            twenty_news_cats.append(cat_vecs_dense)\n",
    "        \n",
    "        for i in tqdm(range(20),display=False):\n",
    "            for j in tqdm(range(i,20),display=False):\n",
    "                dist_value = sim(twenty_news_cats[i],twenty_news_cats[j],rank,normalize_bool = False)\n",
    "                dist_matrix[i,j] += dist_value\n",
    "                if i != j:\n",
    "                    dist_matrix[j,i] += dist_value\n",
    "                pbar.update(1)\n",
    "            \n",
    "dist_matrix = dist_matrix/numtrials"
   ]
  },
  {
   "cell_type": "code",
   "execution_count": 4,
   "id": "aac52abc",
   "metadata": {},
   "outputs": [],
   "source": [
    "kmeans = KMeans(n_clusters=6, random_state=0).fit(dist_matrix)\n",
    "order = np.argsort(kmeans.labels_)\n",
    "\n",
    "row_sort_matrix = dist_matrix[order,:]\n",
    "sort_matrix = row_sort_matrix[:,order]"
   ]
  },
  {
   "cell_type": "code",
   "execution_count": 5,
   "id": "eae06761",
   "metadata": {},
   "outputs": [
    {
     "data": {
      "image/png": "[encoded data removed]",
      "text/plain": [
       "<Figure size 432x288 with 2 Axes>"
      ]
     },
     "metadata": {
      "needs_background": "light"
     },
     "output_type": "display_data"
    }
   ],
   "source": [
    "fig, ax = plt.subplots(1,1)\n",
    "img = ax.imshow(sort_matrix, cmap='hot', interpolation='nearest')\n",
    "label_list = [categories[i] for i in order]\n",
    "ax.set_xticks(np.linspace(0, 19, num=20))\n",
    "ax.set_yticks(np.linspace(0, 19, num=20))\n",
    "ax.set_xticklabels(label_list,FontSize=7)\n",
    "ax.set_yticklabels(label_list,FontSize=7)\n",
    "for tick in ax.get_xticklabels():\n",
    "    tick.set_rotation(90)\n",
    "fig.colorbar(img)\n",
    "fig.tight_layout()\n",
    "fig.show()\n",
    "fig.savefig('avg_20news_distance.eps', format='eps')"
   ]
  },
  {
   "cell_type": "code",
   "execution_count": 6,
   "id": "5bb86027",
   "metadata": {},
   "outputs": [
    {
     "data": {
      "text/plain": [
       "[0, 1, 1, 1, 1, 1, 2, 2, 2, 2, 2, 2, 3, 3, 3, 3, 3, 4, 5, 5]"
      ]
     },
     "execution_count": 6,
     "metadata": {},
     "output_type": "execute_result"
    }
   ],
   "source": [
    "[kmeans.labels_[i] for i in order]"
   ]
  },
  {
   "cell_type": "code",
   "execution_count": null,
   "id": "41b1cf45",
   "metadata": {},
   "outputs": [],
   "source": []
  }
 ],
 "metadata": {
  "kernelspec": {
   "display_name": "Python 3",
   "language": "python",
   "name": "python3"
  },
  "language_info": {
   "codemirror_mode": {
    "name": "ipython",
    "version": 3
   },
   "file_extension": ".py",
   "mimetype": "text/x-python",
   "name": "python",
   "nbconvert_exporter": "python",
   "pygments_lexer": "ipython3",
   "version": "3.8.8"
  }
 },
 "nbformat": 4,
 "nbformat_minor": 5
}
